{
 "cells": [
  {
   "cell_type": "markdown",
   "id": "358d7d7d",
   "metadata": {},
   "source": [
    "# TEXT EMOTION DETECTION"
   ]
  },
  {
   "cell_type": "markdown",
   "id": "a2968579",
   "metadata": {},
   "source": [
    "Libs used:\n",
    "1. pandas\n",
    "2. numpy\n",
    "3. seaborn\n",
    "4. scikit-learn\n",
    "5. neattext\n",
    "\n"
   ]
  },
  {
   "cell_type": "code",
   "execution_count": 17,
   "id": "616dbc07",
   "metadata": {},
   "outputs": [],
   "source": [
    "import pandas as pd\n",
    "import numpy as np\n",
    "import seaborn as sns"
   ]
  },
  {
   "cell_type": "markdown",
   "id": "09a7ea18",
   "metadata": {},
   "source": [
    "### Loading the dataset"
   ]
  },
  {
   "cell_type": "code",
   "execution_count": 19,
   "id": "4841dd0f",
   "metadata": {
    "scrolled": true
   },
   "outputs": [
    {
     "data": {
      "text/html": [
       "<div>\n",
       "<style scoped>\n",
       "    .dataframe tbody tr th:only-of-type {\n",
       "        vertical-align: middle;\n",
       "    }\n",
       "\n",
       "    .dataframe tbody tr th {\n",
       "        vertical-align: top;\n",
       "    }\n",
       "\n",
       "    .dataframe thead th {\n",
       "        text-align: right;\n",
       "    }\n",
       "</style>\n",
       "<table border=\"1\" class=\"dataframe\">\n",
       "  <thead>\n",
       "    <tr style=\"text-align: right;\">\n",
       "      <th></th>\n",
       "      <th>Unnamed: 0</th>\n",
       "      <th>text</th>\n",
       "      <th>Emotion</th>\n",
       "    </tr>\n",
       "  </thead>\n",
       "  <tbody>\n",
       "    <tr>\n",
       "      <th>0</th>\n",
       "      <td>0</td>\n",
       "      <td>i seriously hate one subject to death but now ...</td>\n",
       "      <td>hate</td>\n",
       "    </tr>\n",
       "    <tr>\n",
       "      <th>1</th>\n",
       "      <td>1</td>\n",
       "      <td>im so full of life i feel appalled</td>\n",
       "      <td>neutral</td>\n",
       "    </tr>\n",
       "    <tr>\n",
       "      <th>2</th>\n",
       "      <td>2</td>\n",
       "      <td>i sit here to write i start to dig out my feel...</td>\n",
       "      <td>neutral</td>\n",
       "    </tr>\n",
       "    <tr>\n",
       "      <th>3</th>\n",
       "      <td>3</td>\n",
       "      <td>ive been really angry with r and i feel like a...</td>\n",
       "      <td>anger</td>\n",
       "    </tr>\n",
       "    <tr>\n",
       "      <th>4</th>\n",
       "      <td>4</td>\n",
       "      <td>i feel suspicious if there is no one outside l...</td>\n",
       "      <td>neutral</td>\n",
       "    </tr>\n",
       "  </tbody>\n",
       "</table>\n",
       "</div>"
      ],
      "text/plain": [
       "   Unnamed: 0                                               text  Emotion\n",
       "0           0  i seriously hate one subject to death but now ...     hate\n",
       "1           1                 im so full of life i feel appalled  neutral\n",
       "2           2  i sit here to write i start to dig out my feel...  neutral\n",
       "3           3  ive been really angry with r and i feel like a...    anger\n",
       "4           4  i feel suspicious if there is no one outside l...  neutral"
      ]
     },
     "execution_count": 19,
     "metadata": {},
     "output_type": "execute_result"
    }
   ],
   "source": [
    "df = pd.read_csv(\"Dataset/Dataset_1.csv\")\n",
    "df.head()"
   ]
  },
  {
   "cell_type": "code",
   "execution_count": 20,
   "id": "0b224913",
   "metadata": {},
   "outputs": [
    {
     "data": {
      "text/plain": [
       "Emotion\n",
       "neutral       674538\n",
       "love           39553\n",
       "happiness      27175\n",
       "sadness        17481\n",
       "relief         16729\n",
       "hate           15267\n",
       "anger          12336\n",
       "fun            10075\n",
       "enthusiasm      9304\n",
       "surprise        6954\n",
       "empty           5542\n",
       "worry           4475\n",
       "boredom          126\n",
       "Name: count, dtype: int64"
      ]
     },
     "execution_count": 20,
     "metadata": {},
     "output_type": "execute_result"
    }
   ],
   "source": [
    "df['Emotion'].value_counts()"
   ]
  },
  {
   "cell_type": "code",
   "execution_count": 21,
   "id": "55053732",
   "metadata": {},
   "outputs": [
    {
     "data": {
      "text/plain": [
       "<Axes: xlabel='Emotion', ylabel='count'>"
      ]
     },
     "execution_count": 21,
     "metadata": {},
     "output_type": "execute_result"
    },
    {
     "data": {
      "image/png": "[encoded data removed]",
      "text/plain": [
       "<Figure size 640x480 with 1 Axes>"
      ]
     },
     "metadata": {},
     "output_type": "display_data"
    }
   ],
   "source": [
    "sns.countplot(x='Emotion',data=df)"
   ]
  },
  {
   "cell_type": "markdown",
   "id": "6e44cdbf",
   "metadata": {},
   "source": [
    "### Data pre-processing"
   ]
  },
  {
   "cell_type": "code",
   "execution_count": 22,
   "id": "c1175202",
   "metadata": {},
   "outputs": [],
   "source": [
    "import neattext.functions as nfx\n",
    "\n",
    "# Remove the user handles\n",
    "df['text'] = df['text'].apply(nfx.remove_userhandles)"
   ]
  },
  {
   "cell_type": "code",
   "execution_count": 23,
   "id": "89bff967",
   "metadata": {},
   "outputs": [
    {
     "data": {
      "text/plain": [
       "['BTC_ADDRESS_REGEX',\n",
       " 'CURRENCY_REGEX',\n",
       " 'CURRENCY_SYMB_REGEX',\n",
       " 'Counter',\n",
       " 'DATE_REGEX',\n",
       " 'EMAIL_REGEX',\n",
       " 'EMOJI_REGEX',\n",
       " 'HASTAG_REGEX',\n",
       " 'MASTERCard_REGEX',\n",
       " 'MD5_SHA_REGEX',\n",
       " 'MOST_COMMON_PUNCT_REGEX',\n",
       " 'NUMBERS_REGEX',\n",
       " 'PHONE_REGEX',\n",
       " 'PoBOX_REGEX',\n",
       " 'SPECIAL_CHARACTERS_REGEX',\n",
       " 'STOPWORDS',\n",
       " 'STOPWORDS_de',\n",
       " 'STOPWORDS_en',\n",
       " 'STOPWORDS_es',\n",
       " 'STOPWORDS_fr',\n",
       " 'STOPWORDS_ru',\n",
       " 'STOPWORDS_yo',\n",
       " 'STREET_ADDRESS_REGEX',\n",
       " 'TextFrame',\n",
       " 'URL_PATTERN',\n",
       " 'USER_HANDLES_REGEX',\n",
       " 'VISACard_REGEX',\n",
       " '__builtins__',\n",
       " '__cached__',\n",
       " '__doc__',\n",
       " '__file__',\n",
       " '__generate_text',\n",
       " '__loader__',\n",
       " '__name__',\n",
       " '__numbers_dict',\n",
       " '__package__',\n",
       " '__spec__',\n",
       " '_lex_richness_herdan',\n",
       " '_lex_richness_maas_ttr',\n",
       " 'clean_text',\n",
       " 'defaultdict',\n",
       " 'digit2words',\n",
       " 'extract_btc_address',\n",
       " 'extract_currencies',\n",
       " 'extract_currency_symbols',\n",
       " 'extract_dates',\n",
       " 'extract_emails',\n",
       " 'extract_emojis',\n",
       " 'extract_hashtags',\n",
       " 'extract_html_tags',\n",
       " 'extract_mastercard_addr',\n",
       " 'extract_md5sha',\n",
       " 'extract_numbers',\n",
       " 'extract_pattern',\n",
       " 'extract_phone_numbers',\n",
       " 'extract_postoffice_box',\n",
       " 'extract_shortwords',\n",
       " 'extract_special_characters',\n",
       " 'extract_stopwords',\n",
       " 'extract_street_address',\n",
       " 'extract_terms_in_bracket',\n",
       " 'extract_urls',\n",
       " 'extract_userhandles',\n",
       " 'extract_visacard_addr',\n",
       " 'fix_contractions',\n",
       " 'generate_sentence',\n",
       " 'hamming_distance',\n",
       " 'inverse_df',\n",
       " 'lexical_richness',\n",
       " 'markov_chain',\n",
       " 'math',\n",
       " 'nlargest',\n",
       " 'normalize',\n",
       " 'num2words',\n",
       " 'random',\n",
       " 're',\n",
       " 'read_txt',\n",
       " 'remove_accents',\n",
       " 'remove_bad_quotes',\n",
       " 'remove_btc_address',\n",
       " 'remove_currencies',\n",
       " 'remove_currency_symbols',\n",
       " 'remove_custom_pattern',\n",
       " 'remove_custom_words',\n",
       " 'remove_dates',\n",
       " 'remove_emails',\n",
       " 'remove_emojis',\n",
       " 'remove_hashtags',\n",
       " 'remove_html_tags',\n",
       " 'remove_mastercard_addr',\n",
       " 'remove_md5sha',\n",
       " 'remove_multiple_spaces',\n",
       " 'remove_non_ascii',\n",
       " 'remove_numbers',\n",
       " 'remove_phone_numbers',\n",
       " 'remove_postoffice_box',\n",
       " 'remove_puncts',\n",
       " 'remove_punctuations',\n",
       " 'remove_shortwords',\n",
       " 'remove_special_characters',\n",
       " 'remove_stopwords',\n",
       " 'remove_street_address',\n",
       " 'remove_terms_in_bracket',\n",
       " 'remove_urls',\n",
       " 'remove_userhandles',\n",
       " 'remove_visacard_addr',\n",
       " 'replace_bad_quotes',\n",
       " 'replace_currencies',\n",
       " 'replace_currency_symbols',\n",
       " 'replace_dates',\n",
       " 'replace_emails',\n",
       " 'replace_emojis',\n",
       " 'replace_numbers',\n",
       " 'replace_phone_numbers',\n",
       " 'replace_special_characters',\n",
       " 'replace_term',\n",
       " 'replace_urls',\n",
       " 'string',\n",
       " 'term_freq',\n",
       " 'to_txt',\n",
       " 'unicodedata',\n",
       " 'word_freq',\n",
       " 'word_length_freq']"
      ]
     },
     "execution_count": 23,
     "metadata": {},
     "output_type": "execute_result"
    }
   ],
   "source": [
    "dir(nfx)"
   ]
  },
  {
   "cell_type": "code",
   "execution_count": 24,
   "id": "18b8f2f0",
   "metadata": {},
   "outputs": [],
   "source": [
    "# Remove the stopwords\n",
    "df['text'] = df['text'].apply(nfx.remove_stopwords)"
   ]
  },
  {
   "cell_type": "code",
   "execution_count": 25,
   "id": "ecdaf676",
   "metadata": {},
   "outputs": [
    {
     "data": {
      "text/html": [
       "<div>\n",
       "<style scoped>\n",
       "    .dataframe tbody tr th:only-of-type {\n",
       "        vertical-align: middle;\n",
       "    }\n",
       "\n",
       "    .dataframe tbody tr th {\n",
       "        vertical-align: top;\n",
       "    }\n",
       "\n",
       "    .dataframe thead th {\n",
       "        text-align: right;\n",
       "    }\n",
       "</style>\n",
       "<table border=\"1\" class=\"dataframe\">\n",
       "  <thead>\n",
       "    <tr style=\"text-align: right;\">\n",
       "      <th></th>\n",
       "      <th>Unnamed: 0</th>\n",
       "      <th>text</th>\n",
       "      <th>Emotion</th>\n",
       "    </tr>\n",
       "  </thead>\n",
       "  <tbody>\n",
       "    <tr>\n",
       "      <th>0</th>\n",
       "      <td>0</td>\n",
       "      <td>seriously hate subject death feel reluctant drop</td>\n",
       "      <td>hate</td>\n",
       "    </tr>\n",
       "    <tr>\n",
       "      <th>1</th>\n",
       "      <td>1</td>\n",
       "      <td>im life feel appalled</td>\n",
       "      <td>neutral</td>\n",
       "    </tr>\n",
       "    <tr>\n",
       "      <th>2</th>\n",
       "      <td>2</td>\n",
       "      <td>sit write start dig feelings think afraid acce...</td>\n",
       "      <td>neutral</td>\n",
       "    </tr>\n",
       "    <tr>\n",
       "      <th>3</th>\n",
       "      <td>3</td>\n",
       "      <td>ive angry r feel like idiot trusting place</td>\n",
       "      <td>anger</td>\n",
       "    </tr>\n",
       "    <tr>\n",
       "      <th>4</th>\n",
       "      <td>4</td>\n",
       "      <td>feel suspicious outside like rapture happened</td>\n",
       "      <td>neutral</td>\n",
       "    </tr>\n",
       "    <tr>\n",
       "      <th>...</th>\n",
       "      <td>...</td>\n",
       "      <td>...</td>\n",
       "      <td>...</td>\n",
       "    </tr>\n",
       "    <tr>\n",
       "      <th>839550</th>\n",
       "      <td>839550</td>\n",
       "      <td>feel like telling horny devils find site suite...</td>\n",
       "      <td>neutral</td>\n",
       "    </tr>\n",
       "    <tr>\n",
       "      <th>839551</th>\n",
       "      <td>839551</td>\n",
       "      <td>began realize feeling agitated restless though...</td>\n",
       "      <td>neutral</td>\n",
       "    </tr>\n",
       "    <tr>\n",
       "      <th>839552</th>\n",
       "      <td>839552</td>\n",
       "      <td>feel curious previous early dawn time seek tro...</td>\n",
       "      <td>neutral</td>\n",
       "    </tr>\n",
       "    <tr>\n",
       "      <th>839553</th>\n",
       "      <td>839553</td>\n",
       "      <td>feel becuase tyranical nature government el sa...</td>\n",
       "      <td>neutral</td>\n",
       "    </tr>\n",
       "    <tr>\n",
       "      <th>839554</th>\n",
       "      <td>839554</td>\n",
       "      <td>think spent time investigating surroundings th...</td>\n",
       "      <td>neutral</td>\n",
       "    </tr>\n",
       "  </tbody>\n",
       "</table>\n",
       "<p>839555 rows × 3 columns</p>\n",
       "</div>"
      ],
      "text/plain": [
       "        Unnamed: 0                                               text  Emotion\n",
       "0                0   seriously hate subject death feel reluctant drop     hate\n",
       "1                1                              im life feel appalled  neutral\n",
       "2                2  sit write start dig feelings think afraid acce...  neutral\n",
       "3                3         ive angry r feel like idiot trusting place    anger\n",
       "4                4      feel suspicious outside like rapture happened  neutral\n",
       "...            ...                                                ...      ...\n",
       "839550      839550  feel like telling horny devils find site suite...  neutral\n",
       "839551      839551  began realize feeling agitated restless though...  neutral\n",
       "839552      839552  feel curious previous early dawn time seek tro...  neutral\n",
       "839553      839553  feel becuase tyranical nature government el sa...  neutral\n",
       "839554      839554  think spent time investigating surroundings th...  neutral\n",
       "\n",
       "[839555 rows x 3 columns]"
      ]
     },
     "execution_count": 25,
     "metadata": {},
     "output_type": "execute_result"
    }
   ],
   "source": [
    "df"
   ]
  },
  {
   "cell_type": "markdown",
   "id": "5a61757d",
   "metadata": {},
   "source": [
    "### Splitting data into input variables and target variable"
   ]
  },
  {
   "cell_type": "markdown",
   "id": "d9b12855",
   "metadata": {},
   "source": [
    "x: Features are the attributes and variables extracted from the dataset. These extracted features are used as inputs to the model during training.\n",
    "\n",
    "y: Labels are the output or the target variable."
   ]
  },
  {
   "cell_type": "code",
   "execution_count": 26,
   "id": "d2568bf5",
   "metadata": {},
   "outputs": [],
   "source": [
    "x = df['text']\n",
    "y = df['Emotion']"
   ]
  },
  {
   "cell_type": "markdown",
   "id": "0be53a4f",
   "metadata": {},
   "source": [
    "### Splitting data into train and test set"
   ]
  },
  {
   "cell_type": "markdown",
   "id": "d153c41a",
   "metadata": {},
   "source": [
    "We need to split our dataset into a train set and test set. The model will learn from the train set. We will use the test set to evaluate the model performance and measure the model’s knowledge capability."
   ]
  },
  {
   "cell_type": "code",
   "execution_count": 27,
   "id": "0781e536",
   "metadata": {},
   "outputs": [],
   "source": [
    "from sklearn.model_selection import train_test_split\n",
    "\n",
    "x_train,x_test,y_train,y_test = train_test_split(x,y,test_size=0.3,random_state=42)"
   ]
  },
  {
   "cell_type": "markdown",
   "id": "94068470",
   "metadata": {},
   "source": [
    "### Training the model"
   ]
  },
  {
   "cell_type": "code",
   "execution_count": 29,
   "id": "2ab70dcb",
   "metadata": {},
   "outputs": [],
   "source": [
    "from sklearn.pipeline import Pipeline\n",
    "from sklearn.feature_extraction.text import CountVectorizer\n",
    "from sklearn.svm import SVC\n",
    "from sklearn.ensemble import RandomForestClassifier\n",
    "from sklearn.linear_model import LogisticRegression"
   ]
  },
  {
   "cell_type": "code",
   "execution_count": 30,
   "id": "8d3bb4f3",
   "metadata": {},
   "outputs": [
    {
     "name": "stderr",
     "output_type": "stream",
     "text": [
      "/home/abraham-tahseen/Documents/Text Based Emotion Detection/AIEnv/lib/python3.12/site-packages/sklearn/linear_model/_logistic.py:469: ConvergenceWarning: lbfgs failed to converge (status=1):\n",
      "STOP: TOTAL NO. of ITERATIONS REACHED LIMIT.\n",
      "\n",
      "Increase the number of iterations (max_iter) or scale the data as shown in:\n",
      "    https://scikit-learn.org/stable/modules/preprocessing.html\n",
      "Please also refer to the documentation for alternative solver options:\n",
      "    https://scikit-learn.org/stable/modules/linear_model.html#logistic-regression\n",
      "  n_iter_i = _check_optimize_result(\n"
     ]
    },
    {
     "data": {
      "text/plain": [
       "0.9901376520147538"
      ]
     },
     "execution_count": 30,
     "metadata": {},
     "output_type": "execute_result"
    }
   ],
   "source": [
    "pipe_lr = Pipeline(steps=[('cv',CountVectorizer()),('lr',LogisticRegression())])\n",
    "pipe_lr.fit(x_train,y_train)\n",
    "pipe_lr.score(x_test,y_test)"
   ]
  },
  {
   "cell_type": "markdown",
   "id": "30ac497a",
   "metadata": {},
   "source": [
    "### Saving the model"
   ]
  },
  {
   "cell_type": "code",
   "execution_count": 31,
   "id": "ed05d1fc",
   "metadata": {},
   "outputs": [],
   "source": [
    "import joblib\n",
    "pipeline_file = open(\"Saved Models/custom_text_emotion.pkl\",\"wb\")\n",
    "joblib.dump(pipe_lr,pipeline_file)\n",
    "pipeline_file.close()"
   ]
  },
  {
   "cell_type": "markdown",
   "id": "a58823fa",
   "metadata": {},
   "source": [
    "### Testing the model"
   ]
  },
  {
   "cell_type": "code",
   "execution_count": 32,
   "id": "1d35cdc1",
   "metadata": {},
   "outputs": [],
   "source": [
    "import joblib\n",
    "\n",
    "pipe_lr = joblib.load(open(\"Saved Models/custom_text_emotion.pkl\", \"rb\"))\n",
    "\n",
    "def predict_emotions(docx):\n",
    "    results = pipe_lr.predict([docx])\n",
    "    return results[0]\n",
    "def get_prediction_proba(docx):\n",
    "    results = pipe_lr.predict_proba([docx])\n",
    "    return results"
   ]
  },
  {
   "cell_type": "code",
   "execution_count": 39,
   "id": "ed72ef78",
   "metadata": {},
   "outputs": [],
   "source": [
    "diary_notes = [\n",
    "  # Neutral\n",
    "  \"Today was a pretty uneventful day. Everything went according to plan, which is nice for a change. I did my usual routine, got my work done, and finished it off with a relaxing evening.\",\n",
    "\n",
    "  # Love\n",
    "  \"My heart feels full of love today. Spending time with my loved ones brought so much joy. Whether it's a simple conversation, a shared meal, or just being in their presence, I feel incredibly grateful for their love and support.\",\n",
    "\n",
    "  # Happiness\n",
    "  \"I woke up feeling happy for no particular reason. The world seems bright and full of possibilities. Everything feels lighter, and I can't help but smile at the little things.\",\n",
    "\n",
    "  # Sadness\n",
    "  \"A wave of sadness washed over me today. Missing someone special and reliving past memories brought a lump to my throat. It's okay to feel sad, and I'll allow myself to grieve for a while.\",\n",
    "\n",
    "  # Relief\n",
    "  \"A huge weight lifted off my shoulders today. A stressful situation finally resolved itself, and I feel a sense of calm and relief. It's like I can finally breathe again.\",\n",
    "\n",
    "  # Hate\n",
    "  \"It's a dark abyss, swallowing up any trace of warmth or compassion. Every thought is tainted by its corrosive touch, twisting and distorting even the most innocent of intentions. It's a heavy burden to bear, dragging me down into a pit of despair and bitterness. And yet, despite my efforts to escape its grasp, it lingers like a shadow, haunting every corner of my being.\",\n",
    "\n",
    "  # Anger\n",
    "  \"Feeling like a volcano on the verge of eruption, my blood boils with a furious intensity. Every breath I take feels like inhaling fire, my muscles tense with pent-up rage. My thoughts are a tempest, swirling with resentment and indignation, ready to unleash their storm upon the world.\",\n",
    "\n",
    "  # Fun\n",
    "  \"Last night was a blast! Laughter filled the air as we hung out with friends and played games. It was a much-needed escape from the daily routine, filled with lighthearted fun and good company.\",\n",
    "\n",
    "  # Enthusiasm\n",
    "  \"I'm so excited about this new project! It sparks a fire within me, and I can't wait to get started. This opportunity brings a sense of enthusiasm and motivation that's truly inspiring.\",\n",
    "\n",
    "  # Surprise\n",
    "  \"Wow, that completely surprised me!  I did not expect such a delightful turn of events. This unexpected good fortune left me speechless with surprise.\",\n",
    "\n",
    "  # Empty\n",
    "  \"I feel strangely empty today. There's no particular sadness or anger, just a void that seems to consume me. Perhaps some time for self-reflection is needed to reconnect with myself.\",\n",
    "\n",
    "  # Worry\n",
    "  \"A nagging worry keeps creeping into my mind today. It's a small issue, but it's difficult to shake off the feeling. Taking a step back and focusing on the present might help alleviate the anxiety.\",\n",
    "\n",
    "  # Boredom\n",
    "  \"Today feels like a drag. Everything seems repetitive and uninteresting. Some mental stimulation or a change of pace could help break out of this boredom spell.\"\n",
    "]\n"
   ]
  },
  {
   "cell_type": "code",
   "execution_count": 40,
   "id": "f9b8ced2",
   "metadata": {},
   "outputs": [
    {
     "name": "stdout",
     "output_type": "stream",
     "text": [
      "neutral  :  [[9.02417843e-04 1.57084591e-04 8.95450807e-03 1.75778314e-05\n",
      "  1.98635065e-03 8.00265875e-04 3.99175859e-04 5.42712726e-04\n",
      "  9.65925159e-01 1.95802552e-02 2.09202331e-04 3.01990865e-04\n",
      "  2.23298730e-04]] \n",
      "\n",
      "love  :  [[8.29205653e-16 3.16903590e-14 1.51767491e-09 2.03898713e-09\n",
      "  1.26155306e-15 2.17703695e-15 5.75425498e-17 9.99999991e-01\n",
      "  1.25771322e-20 1.03718620e-17 4.55172994e-09 4.58985599e-10\n",
      "  1.42361808e-10]] \n",
      "\n",
      "happiness  :  [[8.60534537e-06 2.59148991e-05 5.36650382e-03 1.47508884e-03\n",
      "  6.43297303e-04 9.63999193e-01 2.20219472e-02 4.31505321e-03\n",
      "  3.29504771e-04 3.46421417e-05 8.42733889e-04 2.97337015e-04\n",
      "  6.40178351e-04]] \n",
      "\n",
      "sadness  :  [[6.23706000e-13 3.60308977e-12 3.48338136e-07 6.11030467e-13\n",
      "  1.29026909e-11 2.31624768e-12 8.23719672e-12 3.26891524e-14\n",
      "  1.36746681e-10 4.58869096e-10 9.99999651e-01 1.22346861e-11\n",
      "  2.52793032e-12]] \n",
      "\n",
      "relief  :  [[7.40957489e-05 3.35564079e-06 6.20085018e-05 3.89499445e-06\n",
      "  2.70529086e-04 9.35482051e-04 6.71698783e-04 1.52947058e-04\n",
      "  3.41910020e-03 9.94166466e-01 3.69220177e-05 3.96680193e-05\n",
      "  1.63831441e-04]] \n",
      "\n",
      "neutral  :  [[3.68354823e-03 1.76536438e-04 3.26645438e-03 2.88967135e-04\n",
      "  9.26919493e-04 2.79079996e-04 6.73260404e-02 2.53649982e-03\n",
      "  8.97530662e-01 2.19418609e-02 3.57951219e-04 4.68147219e-04\n",
      "  1.21733263e-03]] \n",
      "\n",
      "anger  :  [[9.32900004e-01 9.29576702e-06 1.80985066e-04 6.46184780e-04\n",
      "  6.11838816e-04 5.33004862e-04 1.95240925e-02 1.82929076e-03\n",
      "  4.11660417e-02 2.04286330e-03 9.39553499e-05 1.23480896e-04\n",
      "  3.38961750e-04]] \n",
      "\n",
      "fun  :  [[1.35540118e-04 3.81125087e-05 3.59218358e-02 5.18804939e-05\n",
      "  9.61510525e-01 8.37501426e-05 1.55846679e-06 4.96354818e-04\n",
      "  2.56956088e-04 1.60895441e-04 8.75492091e-04 3.07868647e-04\n",
      "  1.59230143e-04]] \n",
      "\n",
      "enthusiasm  :  [[1.55251848e-05 5.73848325e-07 6.18500511e-04 9.99028626e-01\n",
      "  6.36706202e-06 1.22626372e-06 8.90539758e-07 1.34724371e-07\n",
      "  2.48313617e-04 3.29167016e-05 4.53027027e-05 3.96535452e-07\n",
      "  1.22661932e-06]] \n",
      "\n",
      "surprise  :  [[1.13068846e-09 6.66197248e-11 2.09919280e-09 1.55489910e-09\n",
      "  5.87707062e-10 1.07395885e-10 4.28453974e-10 9.99865476e-13\n",
      "  7.47986075e-10 9.06121729e-10 1.76966121e-09 9.99999982e-01\n",
      "  8.94931361e-09]] \n",
      "\n",
      "empty  :  [[4.22216360e-06 4.45003053e-07 6.29685545e-01 4.40541926e-07\n",
      "  2.53263284e-06 1.86115996e-07 1.12395189e-05 2.97343192e-08\n",
      "  1.11011649e-05 1.62712791e-05 3.70266856e-01 6.27872974e-07\n",
      "  5.02934265e-07]] \n",
      "\n",
      "worry  :  [[6.10493355e-10 1.17980470e-10 3.40462169e-10 1.09997387e-10\n",
      "  1.96160638e-10 9.61351139e-11 2.06999725e-11 2.00713026e-12\n",
      "  2.67439684e-09 4.07185369e-09 5.08939280e-09 1.20563618e-10\n",
      "  9.99999987e-01]] \n",
      "\n",
      "boredom  :  [[9.21086220e-04 9.33846425e-01 1.48887812e-03 2.42188592e-04\n",
      "  5.80154724e-03 2.54977138e-03 2.31106167e-03 2.34293823e-03\n",
      "  3.50572205e-02 1.30031436e-02 8.73110778e-04 1.04690368e-03\n",
      "  5.15725462e-04]] \n",
      "\n"
     ]
    }
   ],
   "source": [
    "for i in diary_notes:\n",
    "    prediction = predict_emotions(i)\n",
    "    probability = get_prediction_proba(i)\n",
    "\n",
    "    print(prediction, \" : \", probability, '\\n')\n",
    "    "
   ]
  }
 ],
 "metadata": {
  "kernelspec": {
   "display_name": "Python 3 (ipykernel)",
   "language": "python",
   "name": "python3"
  },
  "language_info": {
   "codemirror_mode": {
    "name": "ipython",
    "version": 3
   },
   "file_extension": ".py",
   "mimetype": "text/x-python",
   "name": "python",
   "nbconvert_exporter": "python",
   "pygments_lexer": "ipython3",
   "version": "3.12.3"
  }
 },
 "nbformat": 4,
 "nbformat_minor": 5
}
